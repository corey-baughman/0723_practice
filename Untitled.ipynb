{
 "cells": [
  {
   "cell_type": "code",
   "execution_count": 5,
   "id": "e6cbc50e-a4c9-4afd-a00d-bdade17189ce",
   "metadata": {},
   "outputs": [
    {
     "name": "stdout",
     "output_type": "stream",
     "text": [
      "\n",
      "\n",
      "\n",
      "~~~ Welcome to your annual wage calculator! ~~~\n",
      "\n",
      "\n",
      "\n"
     ]
    },
    {
     "name": "stdin",
     "output_type": "stream",
     "text": [
      "Input the hourly wage:\n",
      " 30\n"
     ]
    },
    {
     "name": "stdout",
     "output_type": "stream",
     "text": [
      "62400\n"
     ]
    }
   ],
   "source": [
    "\n",
    "# print a welcome message to user\n",
    "print('\\n\\n\\n~~~ Welcome to your annual wage calculator! ~~~\\n\\n\\n')\n",
    "\n",
    "    # user inputs the hourly wage they want to use to find annual salary\n",
    "user_input = input(\"Input the hourly wage:\\n\")\n",
    "print(int(user_input) * 40 * 52)\n"
   ]
  },
  {
   "cell_type": "code",
   "execution_count": null,
   "id": "c875f106-2660-41d1-bb16-50a2ba31a43e",
   "metadata": {},
   "outputs": [],
   "source": []
  }
 ],
 "metadata": {
  "kernelspec": {
   "display_name": "Python 3 (ipykernel)",
   "language": "python",
   "name": "python3"
  },
  "language_info": {
   "codemirror_mode": {
    "name": "ipython",
    "version": 3
   },
   "file_extension": ".py",
   "mimetype": "text/x-python",
   "name": "python",
   "nbconvert_exporter": "python",
   "pygments_lexer": "ipython3",
   "version": "3.9.13"
  }
 },
 "nbformat": 4,
 "nbformat_minor": 5
}
